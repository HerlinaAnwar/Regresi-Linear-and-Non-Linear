{
  "cells": [
    {
      "cell_type": "markdown",
      "source": [
        "# Import Library\n"
      ],
      "metadata": {
        "id": "av3kVTE3QHTp"
      }
    },
    {
      "cell_type": "code",
      "source": [
        "import pandas as pd\n",
        "import numpy as np\n",
        "import matplotlib.pyplot as plt\n",
        "%matplotlib inline"
      ],
      "metadata": {
        "id": "JLyzb_CRQZIi"
      },
      "execution_count": 1,
      "outputs": []
    },
    {
      "cell_type": "markdown",
      "source": [
        "# Membaca Dataset\n"
      ],
      "metadata": {
        "id": "fNn8cghuQgOo"
      }
    },
    {
      "cell_type": "code",
      "execution_count": 2,
      "metadata": {
        "id": "7OkqZykBA4GS"
      },
      "outputs": [],
      "source": [
        "#membaca dataset pada direktori path\n",
        "path = '/content/china_gdp.csv'\n",
        "df = pd.read_csv(path)"
      ]
    },
    {
      "cell_type": "code",
      "execution_count": 3,
      "metadata": {
        "colab": {
          "base_uri": "https://localhost:8080/",
          "height": 363
        },
        "id": "_0VZXwODBV3u",
        "outputId": "6495b0e2-f1b8-4d88-83d7-7fb8824a8995"
      },
      "outputs": [
        {
          "output_type": "execute_result",
          "data": {
            "text/plain": [
              "   Year         Value\n",
              "0  1960  5.918412e+10\n",
              "1  1961  4.955705e+10\n",
              "2  1962  4.668518e+10\n",
              "3  1963  5.009730e+10\n",
              "4  1964  5.906225e+10\n",
              "5  1965  6.970915e+10\n",
              "6  1966  7.587943e+10\n",
              "7  1967  7.205703e+10\n",
              "8  1968  6.999350e+10\n",
              "9  1969  7.871882e+10"
            ],
            "text/html": [
              "\n",
              "  <div id=\"df-5d7ccdc4-bc4d-4b39-a858-afdb38794dae\">\n",
              "    <div class=\"colab-df-container\">\n",
              "      <div>\n",
              "<style scoped>\n",
              "    .dataframe tbody tr th:only-of-type {\n",
              "        vertical-align: middle;\n",
              "    }\n",
              "\n",
              "    .dataframe tbody tr th {\n",
              "        vertical-align: top;\n",
              "    }\n",
              "\n",
              "    .dataframe thead th {\n",
              "        text-align: right;\n",
              "    }\n",
              "</style>\n",
              "<table border=\"1\" class=\"dataframe\">\n",
              "  <thead>\n",
              "    <tr style=\"text-align: right;\">\n",
              "      <th></th>\n",
              "      <th>Year</th>\n",
              "      <th>Value</th>\n",
              "    </tr>\n",
              "  </thead>\n",
              "  <tbody>\n",
              "    <tr>\n",
              "      <th>0</th>\n",
              "      <td>1960</td>\n",
              "      <td>5.918412e+10</td>\n",
              "    </tr>\n",
              "    <tr>\n",
              "      <th>1</th>\n",
              "      <td>1961</td>\n",
              "      <td>4.955705e+10</td>\n",
              "    </tr>\n",
              "    <tr>\n",
              "      <th>2</th>\n",
              "      <td>1962</td>\n",
              "      <td>4.668518e+10</td>\n",
              "    </tr>\n",
              "    <tr>\n",
              "      <th>3</th>\n",
              "      <td>1963</td>\n",
              "      <td>5.009730e+10</td>\n",
              "    </tr>\n",
              "    <tr>\n",
              "      <th>4</th>\n",
              "      <td>1964</td>\n",
              "      <td>5.906225e+10</td>\n",
              "    </tr>\n",
              "    <tr>\n",
              "      <th>5</th>\n",
              "      <td>1965</td>\n",
              "      <td>6.970915e+10</td>\n",
              "    </tr>\n",
              "    <tr>\n",
              "      <th>6</th>\n",
              "      <td>1966</td>\n",
              "      <td>7.587943e+10</td>\n",
              "    </tr>\n",
              "    <tr>\n",
              "      <th>7</th>\n",
              "      <td>1967</td>\n",
              "      <td>7.205703e+10</td>\n",
              "    </tr>\n",
              "    <tr>\n",
              "      <th>8</th>\n",
              "      <td>1968</td>\n",
              "      <td>6.999350e+10</td>\n",
              "    </tr>\n",
              "    <tr>\n",
              "      <th>9</th>\n",
              "      <td>1969</td>\n",
              "      <td>7.871882e+10</td>\n",
              "    </tr>\n",
              "  </tbody>\n",
              "</table>\n",
              "</div>\n",
              "      <button class=\"colab-df-convert\" onclick=\"convertToInteractive('df-5d7ccdc4-bc4d-4b39-a858-afdb38794dae')\"\n",
              "              title=\"Convert this dataframe to an interactive table.\"\n",
              "              style=\"display:none;\">\n",
              "        \n",
              "  <svg xmlns=\"http://www.w3.org/2000/svg\" height=\"24px\"viewBox=\"0 0 24 24\"\n",
              "       width=\"24px\">\n",
              "    <path d=\"M0 0h24v24H0V0z\" fill=\"none\"/>\n",
              "    <path d=\"M18.56 5.44l.94 2.06.94-2.06 2.06-.94-2.06-.94-.94-2.06-.94 2.06-2.06.94zm-11 1L8.5 8.5l.94-2.06 2.06-.94-2.06-.94L8.5 2.5l-.94 2.06-2.06.94zm10 10l.94 2.06.94-2.06 2.06-.94-2.06-.94-.94-2.06-.94 2.06-2.06.94z\"/><path d=\"M17.41 7.96l-1.37-1.37c-.4-.4-.92-.59-1.43-.59-.52 0-1.04.2-1.43.59L10.3 9.45l-7.72 7.72c-.78.78-.78 2.05 0 2.83L4 21.41c.39.39.9.59 1.41.59.51 0 1.02-.2 1.41-.59l7.78-7.78 2.81-2.81c.8-.78.8-2.07 0-2.86zM5.41 20L4 18.59l7.72-7.72 1.47 1.35L5.41 20z\"/>\n",
              "  </svg>\n",
              "      </button>\n",
              "      \n",
              "  <style>\n",
              "    .colab-df-container {\n",
              "      display:flex;\n",
              "      flex-wrap:wrap;\n",
              "      gap: 12px;\n",
              "    }\n",
              "\n",
              "    .colab-df-convert {\n",
              "      background-color: #E8F0FE;\n",
              "      border: none;\n",
              "      border-radius: 50%;\n",
              "      cursor: pointer;\n",
              "      display: none;\n",
              "      fill: #1967D2;\n",
              "      height: 32px;\n",
              "      padding: 0 0 0 0;\n",
              "      width: 32px;\n",
              "    }\n",
              "\n",
              "    .colab-df-convert:hover {\n",
              "      background-color: #E2EBFA;\n",
              "      box-shadow: 0px 1px 2px rgba(60, 64, 67, 0.3), 0px 1px 3px 1px rgba(60, 64, 67, 0.15);\n",
              "      fill: #174EA6;\n",
              "    }\n",
              "\n",
              "    [theme=dark] .colab-df-convert {\n",
              "      background-color: #3B4455;\n",
              "      fill: #D2E3FC;\n",
              "    }\n",
              "\n",
              "    [theme=dark] .colab-df-convert:hover {\n",
              "      background-color: #434B5C;\n",
              "      box-shadow: 0px 1px 3px 1px rgba(0, 0, 0, 0.15);\n",
              "      filter: drop-shadow(0px 1px 2px rgba(0, 0, 0, 0.3));\n",
              "      fill: #FFFFFF;\n",
              "    }\n",
              "  </style>\n",
              "\n",
              "      <script>\n",
              "        const buttonEl =\n",
              "          document.querySelector('#df-5d7ccdc4-bc4d-4b39-a858-afdb38794dae button.colab-df-convert');\n",
              "        buttonEl.style.display =\n",
              "          google.colab.kernel.accessAllowed ? 'block' : 'none';\n",
              "\n",
              "        async function convertToInteractive(key) {\n",
              "          const element = document.querySelector('#df-5d7ccdc4-bc4d-4b39-a858-afdb38794dae');\n",
              "          const dataTable =\n",
              "            await google.colab.kernel.invokeFunction('convertToInteractive',\n",
              "                                                     [key], {});\n",
              "          if (!dataTable) return;\n",
              "\n",
              "          const docLinkHtml = 'Like what you see? Visit the ' +\n",
              "            '<a target=\"_blank\" href=https://colab.research.google.com/notebooks/data_table.ipynb>data table notebook</a>'\n",
              "            + ' to learn more about interactive tables.';\n",
              "          element.innerHTML = '';\n",
              "          dataTable['output_type'] = 'display_data';\n",
              "          await google.colab.output.renderOutput(dataTable, element);\n",
              "          const docLink = document.createElement('div');\n",
              "          docLink.innerHTML = docLinkHtml;\n",
              "          element.appendChild(docLink);\n",
              "        }\n",
              "      </script>\n",
              "    </div>\n",
              "  </div>\n",
              "  "
            ]
          },
          "metadata": {},
          "execution_count": 3
        }
      ],
      "source": [
        "# Menampilkan 10 data teratas\n",
        "df.head(10)"
      ]
    },
    {
      "cell_type": "markdown",
      "source": [
        "# Menampilkan Ploting Dataset"
      ],
      "metadata": {
        "id": "18N-HM6DRHgs"
      }
    },
    {
      "cell_type": "code",
      "execution_count": 4,
      "metadata": {
        "colab": {
          "base_uri": "https://localhost:8080/",
          "height": 345
        },
        "id": "mLFcGYvnBbsD",
        "outputId": "3c99a83b-6e5f-4d7d-b7f8-8fb61d53b30f"
      },
      "outputs": [
        {
          "output_type": "display_data",
          "data": {
            "text/plain": [
              "<Figure size 576x360 with 1 Axes>"
            ],
            "image/png": "[encoded data removed]"
          },
          "metadata": {
            "needs_background": "light"
          }
        }
      ],
      "source": [
        "# Plotting dataset\n",
        "x_data, y_data = (df[\"Year\"].values, df[\"Value\"].values)\n",
        "\n",
        "plt.figure (figsize = (8, 5))\n",
        "plt.plot(x_data, y_data, 'ro')\n",
        "plt.ylabel(\"GDP\")\n",
        "plt.xlabel(\"Year\")\n",
        "plt.show()"
      ]
    },
    {
      "cell_type": "markdown",
      "source": [
        "# Membuat Model (Sigmoidal/Logistic) yang sesuai dengan dataset"
      ],
      "metadata": {
        "id": "U_fUtEivRmP1"
      }
    },
    {
      "cell_type": "code",
      "execution_count": 5,
      "metadata": {
        "id": "xSXOZ17oD9tn"
      },
      "outputs": [],
      "source": [
        "# Membuat Model \n",
        "\n",
        "def model_sigmoid(x, Beta_1, Beta_2):\n",
        "    ymodel = 1 / (1 + np.exp (-Beta_1 * (x - Beta_2)))\n",
        "    return ymodel"
      ]
    },
    {
      "cell_type": "code",
      "execution_count": 6,
      "metadata": {
        "colab": {
          "base_uri": "https://localhost:8080/",
          "height": 276
        },
        "id": "1rasoez-FgMd",
        "outputId": "e52c17ce-3f43-488b-eb2b-b809cf08c556"
      },
      "outputs": [
        {
          "output_type": "display_data",
          "data": {
            "text/plain": [
              "<Figure size 432x288 with 1 Axes>"
            ],
            "image/png": "[encoded data removed]"
          },
          "metadata": {
            "needs_background": "light"
          }
        }
      ],
      "source": [
        "# Testing Model\n",
        "beta_1 = 0.1\n",
        "beta_2 = 1990\n",
        "\n",
        "# Logistic Function\n",
        "y_prediksi_awal = model_sigmoid(x_data, beta_1, beta_2)\n",
        "\n",
        "plt.plot(x_data, y_data, 'ro')\n",
        "plt.plot(x_data, y_prediksi_awal * 1500000000000)\n",
        "plt.show()"
      ]
    },
    {
      "cell_type": "markdown",
      "source": [
        "# Melakukan Normalisasi Data dan Menampilkan Model Prediksi"
      ],
      "metadata": {
        "id": "ZguEB9PKTis9"
      }
    },
    {
      "cell_type": "code",
      "execution_count": 7,
      "metadata": {
        "id": "aBkaj0wuId_-"
      },
      "outputs": [],
      "source": [
        "# Melakukan Normalisasi Data\n",
        "\n",
        "x_scaled = (x_data - min (x_data)) / (max(x_data) - min(x_data))\n",
        "y_scaled = (y_data - min (y_data)) / (max(y_data) - min(y_data))"
      ]
    },
    {
      "cell_type": "code",
      "execution_count": 15,
      "metadata": {
        "colab": {
          "base_uri": "https://localhost:8080/"
        },
        "id": "oMoPk-UPI7OS",
        "outputId": "96f2e143-3d96-409f-9647-7a6e72f407bd"
      },
      "outputs": [
        {
          "output_type": "stream",
          "name": "stdout",
          "text": [
            "Beta_1 = 18.869350407536267 Beta_2 = 0.8966631945557113\n"
          ]
        }
      ],
      "source": [
        "# Menentukan Nilai Beta_1 dan Beta_2\n",
        "\n",
        "from scipy.optimize import curve_fit\n",
        "popt, pcov = curve_fit(model_sigmoid, x_scaled, y_scaled)\n",
        "print(\"Beta_1 = {} Beta_2 = {}\".format(popt[0], popt[1]))"
      ]
    },
    {
      "cell_type": "code",
      "execution_count": 35,
      "metadata": {
        "id": "k1LL2lExJPfu"
      },
      "outputs": [],
      "source": [
        "# Hitung y_prediksi normalisasi\n",
        "\n",
        "y_prediksi= model_sigmoid(x_scaled, *popt)\n"
      ]
    },
    {
      "cell_type": "code",
      "execution_count": 36,
      "metadata": {
        "colab": {
          "base_uri": "https://localhost:8080/",
          "height": 334
        },
        "id": "6VGiZ54-JcY1",
        "outputId": "419e2993-9c7b-42ae-d989-b930a37d0a3f"
      },
      "outputs": [
        {
          "output_type": "display_data",
          "data": {
            "text/plain": [
              "<Figure size 576x360 with 1 Axes>"
            ],
            "image/png": "[encoded data removed]"
          },
          "metadata": {
            "needs_background": "light"
          }
        }
      ],
      "source": [
        "# Plot Hasil Regresi Non Linear\n",
        "\n",
        "plt.figure(figsize = (8, 5))\n",
        "plt.plot(x_scaled, y_scaled, 'ro', label = 'data')\n",
        "plt.plot(x_scaled, y_prediksi, linewidth = 3.0, label = 'prediksi')\n",
        "plt.legend(loc = 'best')\n",
        "plt.ylabel(\"GDP\")\n",
        "plt.xlabel(\"Year\")\n",
        "plt.show()"
      ]
    },
    {
      "cell_type": "markdown",
      "source": [
        "# 1. Menghitung Nilai MAE, MSE, dan RMSE"
      ],
      "metadata": {
        "id": "ZHZ3tC5IUJf1"
      }
    },
    {
      "cell_type": "code",
      "execution_count": 37,
      "metadata": {
        "colab": {
          "base_uri": "https://localhost:8080/"
        },
        "id": "I1_Kgbt3J0yA",
        "outputId": "ec54f5ce-a29f-4008-aef3-7f2bde20935c"
      },
      "outputs": [
        {
          "output_type": "stream",
          "name": "stdout",
          "text": [
            "Mean Absolute Error = 0.0273\n",
            "Mean Squared Error = 0.0014\n",
            "Root Mean Squared Error = 0.0376\n"
          ]
        }
      ],
      "source": [
        "#menghitung MAE, MSE, dan RMSE\n",
        "mae = np.mean(np.absolute(y_scaled - y_prediksi))\n",
        "mse = np.mean((y_scaled - y_prediksi)**2)\n",
        "rmse = np.sqrt(mse)\n",
        "\n",
        "print(\"Mean Absolute Error = \" + str(round(mae, 4)))\n",
        "print(\"Mean Squared Error = \" + str(round(mse, 4)))\n",
        "print(\"Root Mean Squared Error = \" + str(round(rmse, 4)))\n"
      ]
    },
    {
      "cell_type": "markdown",
      "source": [
        "# 2. Tambahkan Grafik yang Menunjukkan Hubungan antara \"Year\" dan \"GDP\" dengan Nilai yang Sebenarnya (tidak dinormalisasi)"
      ],
      "metadata": {
        "id": "ShnI6WeEUs-q"
      }
    },
    {
      "cell_type": "code",
      "execution_count": 38,
      "metadata": {
        "colab": {
          "base_uri": "https://localhost:8080/",
          "height": 350
        },
        "id": "EB5TNHjVKgQy",
        "outputId": "7d11f2f5-174d-4e02-9e00-bdce359b203d"
      },
      "outputs": [
        {
          "output_type": "display_data",
          "data": {
            "text/plain": [
              "<Figure size 576x360 with 1 Axes>"
            ],
            "image/png": "[encoded data removed]"
          },
          "metadata": {
            "needs_background": "light"
          }
        }
      ],
      "source": [
        "# Menambahkan grafik yang menunjukkan hubungan antara \"Year\" dan \"GDP\" dengan nilai yang sebenarnya (tidak dinormalisasi)\n",
        "\n",
        "y_prediksi2 = (y_prediksi*(max(y_data)-min(y_data)))+min(y_data)\n",
        "plt.figure(figsize=(8, 5))\n",
        "plt.plot(x_data, y_data, 'ro', label = 'data')\n",
        "plt.plot(x_data, y_prediksi2, linewidth = 3.0, label = 'prediksi')\n",
        "plt.legend(loc = 'best')\n",
        "plt.ylabel(\"GDP\")\n",
        "plt.xlabel(\"Year\")\n",
        "plt.title('Grafik Hubungan Antara \"Year\" dan \"GDP\"')\n",
        "plt.show()"
      ]
    },
    {
      "cell_type": "markdown",
      "source": [
        "# 3. Tambahkan Grafik yang menunjukkan Prediksi GDP untuk tahun 2015 - 2030 menggunakan Nilai yang sebenarnya (tidak dinormalisasi)"
      ],
      "metadata": {
        "id": "36jye2TTVmkA"
      }
    },
    {
      "cell_type": "code",
      "execution_count": 39,
      "metadata": {
        "colab": {
          "base_uri": "https://localhost:8080/",
          "height": 361
        },
        "id": "BaGbavX3-aLV",
        "outputId": "4cd497e5-db68-472b-c0a0-641c719ce394"
      },
      "outputs": [
        {
          "output_type": "display_data",
          "data": {
            "text/plain": [
              "<Figure size 576x360 with 1 Axes>"
            ],
            "image/png": "[encoded data removed]"
          },
          "metadata": {
            "needs_background": "light"
          }
        }
      ],
      "source": [
        "# Menambahkan grafik yang menunjukkan prediksi GDP untuk tahun 2015 - 2030 menggunakan nilai yang sebenarnya (tidak dinormalisasi)\n",
        "\n",
        "x_uji = np.arange(2015, 2031)\n",
        "x_uji_scaled = (x_uji-min(x_data))/(max(x_data)-min(x_data))\n",
        "y_prediksi3 = model_sigmoid(x_uji_scaled, *popt)\n",
        "y_prediksi4 = (y_prediksi3*(max(y_data)-min(y_data)))+min(y_data)\n",
        "plt.figure(figsize=(8, 5))\n",
        "plt.plot(x_uji, y_prediksi4, linewidth = 3.0, label = 'prediksi')\n",
        "plt.legend(loc = 'best')\n",
        "plt.ylabel(\"GDP\")\n",
        "plt.xlabel(\"Year\")\n",
        "plt.title('Grafik Hubungan Antara \"Year\" dan \"GDP\" Untuk Tahun 2015 - 2030')\n",
        "plt.show()"
      ]
    }
  ],
  "metadata": {
    "colab": {
      "provenance": []
    },
    "kernelspec": {
      "display_name": "Python 3",
      "name": "python3"
    },
    "language_info": {
      "name": "python"
    }
  },
  "nbformat": 4,
  "nbformat_minor": 0
}